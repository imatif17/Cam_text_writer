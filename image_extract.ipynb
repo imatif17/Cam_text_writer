{
 "cells": [
  {
   "cell_type": "markdown",
   "metadata": {},
   "source": [
    "prediction"
   ]
  },
  {
   "cell_type": "code",
   "execution_count": 10,
   "metadata": {},
   "outputs": [],
   "source": [
    "# importing dependencies\n",
    "import numpy as np\n",
    "import os\n",
    "import cv2\n",
    "import imutils\n",
    "import os.path\n",
    "import importlib\n",
    "from os import listdir\n",
    "import matplotlib.pyplot as plt"
   ]
  },
  {
   "cell_type": "code",
   "execution_count": 11,
   "metadata": {},
   "outputs": [],
   "source": [
    "def image_segmentation(image_name):\n",
    "    # reading the image\n",
    "    image = cv2.imread(image_name)\n",
    "\n",
    "    # converting the image to grayscale\n",
    "    gray = cv2.cvtColor(image, cv2.COLOR_BGR2GRAY)\n",
    "\n",
    "    # threshold to convert the image to pure black and white\n",
    "    thresh = cv2.threshold(gray, 0,255, cv2.THRESH_BINARY_INV | cv2.THRESH_OTSU)[1]\n",
    "    \n",
    "\n",
    "    # find the contours (continous blob of pixels ) in the image \n",
    "    contours = cv2.findContours(thresh,cv2.RETR_EXTERNAL, cv2.CHAIN_APPROX_SIMPLE)\n",
    "\n",
    "    # Hack for compatibility with different OpenCV versions\n",
    "    contours = contours[0]\n",
    "\n",
    "    letter_image_regions = []\n",
    "\n",
    "    # now loop through each of the letter in the image \n",
    "    for contour in contours:\n",
    "        # get the rectangle that contains the contour\n",
    "        x,y,w,h = cv2.boundingRect(contour)\n",
    "        # compare the width and height of the contour to detect if it\n",
    "        # has one letter or not\n",
    "        if w/h >1.25:\n",
    "            # this is too wide for a single letter\n",
    "            continue\n",
    "        elif w<3 or h<3:\n",
    "            # this is a very small image probably a noise\n",
    "            continue\n",
    "        else:\n",
    "        # this is a normal letter by itself\n",
    "            letter_image_regions.append((x,y,w,h))\n",
    "\n",
    "    return letter_image_regions\n",
    "\n"
   ]
  },
  {
   "cell_type": "code",
   "execution_count": 12,
   "metadata": {},
   "outputs": [],
   "source": [
    "# a function to resize the image into appropriate dimensions\n",
    "def resize(img):\n",
    "    img = cv2.resize(img,(20,20))\n",
    "    return img"
   ]
  },
  {
   "cell_type": "code",
   "execution_count": 18,
   "metadata": {},
   "outputs": [],
   "source": [
    "# now we will read images from the folder segment the images and will produce the output\n",
    "for image_name in listdir('images'):\n",
    "    counter = 1\n",
    "    # constructing the name of the file \n",
    "    file_name = 'images/' + image_name\n",
    "\n",
    "    # getting segmented images \n",
    "    letters_in_image = image_segmentation(file_name)\n",
    "    \n",
    "    # sorting the letters so that letters that appear before is addressed first \n",
    "    letters_in_image = sorted(letters_in_image, key=lambda x: x[0])\n",
    "    \n",
    "    ans = \"\"\n",
    "    for (x,y,w,h) in letters_in_image:\n",
    "        image = cv2.imread(file_name,0)\n",
    "        letter = image[y - 2:y + h + 2, x - 2:x + w + 2]\n",
    "        \n",
    "        cv2.imwrite('alphabets/'+str(counter)+'.jpg', letter)\n",
    "        counter = counter + 1"
   ]
  },
  {
   "cell_type": "code",
   "execution_count": 25,
   "metadata": {},
   "outputs": [
    {
     "data": {
      "text/plain": [
       "5"
      ]
     },
     "execution_count": 25,
     "metadata": {},
     "output_type": "execute_result"
    }
   ],
   "source": []
  },
  {
   "cell_type": "code",
   "execution_count": 21,
   "metadata": {},
   "outputs": [
    {
     "data": {
      "text/plain": [
       "['new.jpg']"
      ]
     },
     "execution_count": 21,
     "metadata": {},
     "output_type": "execute_result"
    }
   ],
   "source": [
    "listdir('images')"
   ]
  },
  {
   "cell_type": "code",
   "execution_count": null,
   "metadata": {},
   "outputs": [],
   "source": []
  }
 ],
 "metadata": {
  "kernelspec": {
   "display_name": "Python 3",
   "language": "python",
   "name": "python3"
  },
  "language_info": {
   "codemirror_mode": {
    "name": "ipython",
    "version": 3
   },
   "file_extension": ".py",
   "mimetype": "text/x-python",
   "name": "python",
   "nbconvert_exporter": "python",
   "pygments_lexer": "ipython3",
   "version": "3.7.3"
  }
 },
 "nbformat": 4,
 "nbformat_minor": 2
}
