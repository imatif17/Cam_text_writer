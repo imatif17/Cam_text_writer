{
 "cells": [
  {
   "cell_type": "markdown",
   "metadata": {
    "colab_type": "text",
    "id": "08CbZVqaqwHj"
   },
   "source": [
    "# CNN_MODEL"
   ]
  },
  {
   "cell_type": "markdown",
   "metadata": {
    "colab_type": "text",
    "id": "LgheZJ5Ap4WU"
   },
   "source": [
    "## Importing the libraries"
   ]
  },
  {
   "cell_type": "code",
   "execution_count": 0,
   "metadata": {
    "colab": {},
    "colab_type": "code",
    "id": "yVjCmF9APqdA"
   },
   "outputs": [],
   "source": [
    "import keras\n",
    "import numpy as np\n",
    "from keras.models import Sequential\n",
    "from keras.layers import Dense,Conv2D,MaxPool2D,Dropout,Flatten\n",
    "from mnist import MNIST\n",
    "import matplotlib.pyplot as plt\n",
    "from keras.optimizers import Adam\n",
    "from keras.callbacks import LearningRateScheduler\n",
    "from keras.models import load_model\n",
    "import sklearn\n",
    "import random\n",
    "import math\n",
    "# Ignore warnings\n",
    "import warnings\n",
    "warnings.filterwarnings(\"ignore\")"
   ]
  },
  {
   "cell_type": "markdown",
   "metadata": {
    "colab_type": "text",
    "id": "SqFyQcoMqBcr"
   },
   "source": [
    "## Loading the data"
   ]
  },
  {
   "cell_type": "code",
   "execution_count": 0,
   "metadata": {
    "colab": {},
    "colab_type": "code",
    "id": "uVigldP0PhVP"
   },
   "outputs": [],
   "source": [
    "emnist_data = MNIST(path='../../data', return_type='numpy')\n",
    "emnist_data.select_emnist('letters')\n",
    "X, y = emnist_data.load_training()"
   ]
  },
  {
   "cell_type": "markdown",
   "metadata": {
    "colab_type": "text",
    "id": "tehI7gKjqFPu"
   },
   "source": [
    "## Data Visualization"
   ]
  },
  {
   "cell_type": "code",
   "execution_count": 42,
   "metadata": {
    "colab": {
     "base_uri": "https://localhost:8080/",
     "height": 52
    },
    "colab_type": "code",
    "id": "W96_OvIwPhVY",
    "outputId": "8d6cb285-c479-4653-8ff6-2364488b5d4a"
   },
   "outputs": [
    {
     "name": "stdout",
     "output_type": "stream",
     "text": [
      "(124800, 784)\n",
      "(124800,)\n"
     ]
    }
   ],
   "source": [
    "print(X.shape)\n",
    "print(y.shape)"
   ]
  },
  {
   "cell_type": "code",
   "execution_count": 0,
   "metadata": {
    "colab": {},
    "colab_type": "code",
    "id": "j64d0lpiPhVi"
   },
   "outputs": [],
   "source": [
    "X = X.reshape(-1,28,28)\n",
    "y = y - 1"
   ]
  },
  {
   "cell_type": "markdown",
   "metadata": {
    "colab_type": "text",
    "id": "QEPvZ_JRqSTG"
   },
   "source": [
    "#### Dictionary to convert number to character"
   ]
  },
  {
   "cell_type": "code",
   "execution_count": 0,
   "metadata": {
    "colab": {},
    "colab_type": "code",
    "id": "YncG6Rf2PhVq"
   },
   "outputs": [],
   "source": [
    "decoder = {}\n",
    "for i in range(0,26):\n",
    "    decoder[i] = chr(97+i)"
   ]
  },
  {
   "cell_type": "code",
   "execution_count": 45,
   "metadata": {
    "colab": {
     "base_uri": "https://localhost:8080/",
     "height": 469
    },
    "colab_type": "code",
    "id": "5ogpPorTPhVx",
    "outputId": "91582f65-fc18-4f17-9f00-9b4fccc15556"
   },
   "outputs": [
    {
     "data": {
      "text/plain": [
       "{0: 'a',\n",
       " 1: 'b',\n",
       " 2: 'c',\n",
       " 3: 'd',\n",
       " 4: 'e',\n",
       " 5: 'f',\n",
       " 6: 'g',\n",
       " 7: 'h',\n",
       " 8: 'i',\n",
       " 9: 'j',\n",
       " 10: 'k',\n",
       " 11: 'l',\n",
       " 12: 'm',\n",
       " 13: 'n',\n",
       " 14: 'o',\n",
       " 15: 'p',\n",
       " 16: 'q',\n",
       " 17: 'r',\n",
       " 18: 's',\n",
       " 19: 't',\n",
       " 20: 'u',\n",
       " 21: 'v',\n",
       " 22: 'w',\n",
       " 23: 'x',\n",
       " 24: 'y',\n",
       " 25: 'z'}"
      ]
     },
     "execution_count": 45,
     "metadata": {
      "tags": []
     },
     "output_type": "execute_result"
    }
   ],
   "source": [
    "decoder"
   ]
  },
  {
   "cell_type": "code",
   "execution_count": 46,
   "metadata": {
    "colab": {
     "base_uri": "https://localhost:8080/",
     "height": 1000
    },
    "colab_type": "code",
    "id": "yK3VIEXnPhV5",
    "outputId": "ec3a0a7c-4624-43e6-da7d-dee8fa8f8e87"
   },
   "outputs": [
    {
     "name": "stdout",
     "output_type": "stream",
     "text": [
      "Label is : p\n",
      "Label is : q\n",
      "Label is : s\n",
      "Label is : p\n",
      "Label is : s\n"
     ]
    },
    {
     "data": {
      "image/png": "[encoded data removed]",
      "text/plain": [
       "<Figure size 1440x720 with 1 Axes>"
      ]
     },
     "metadata": {
      "tags": []
     },
     "output_type": "display_data"
    },
    {
     "data": {
      "image/png": "[encoded data removed]",
      "text/plain": [
       "<Figure size 1440x720 with 1 Axes>"
      ]
     },
     "metadata": {
      "tags": []
     },
     "output_type": "display_data"
    },
    {
     "data": {
      "image/png": "[encoded data removed]",
      "text/plain": [
       "<Figure size 1440x720 with 1 Axes>"
      ]
     },
     "metadata": {
      "tags": []
     },
     "output_type": "display_data"
    },
    {
     "data": {
      "image/png": "[encoded data removed]",
      "text/plain": [
       "<Figure size 1440x720 with 1 Axes>"
      ]
     },
     "metadata": {
      "tags": []
     },
     "output_type": "display_data"
    },
    {
     "data": {
      "image/png": "[encoded data removed]",
      "text/plain": [
       "<Figure size 1440x720 with 1 Axes>"
      ]
     },
     "metadata": {
      "tags": []
     },
     "output_type": "display_data"
    }
   ],
   "source": [
    "n = 5\n",
    "for i in range(n):\n",
    "    plt.figure(figsize=(20,10))\n",
    "    idx = random.randint(0,len(X))\n",
    "    ax = plt.subplot(1, n, i + 1)\n",
    "    print(\"Label is : \"+decoder[y[idx]])\n",
    "    plt.imshow(X[idx],cmap = 'gray')"
   ]
  },
  {
   "cell_type": "markdown",
   "metadata": {
    "colab_type": "text",
    "id": "dDkyYjSOqZsA"
   },
   "source": [
    "## Data Preprocessing"
   ]
  },
  {
   "cell_type": "code",
   "execution_count": 0,
   "metadata": {
    "colab": {},
    "colab_type": "code",
    "id": "W5sbbIVkPhV-"
   },
   "outputs": [],
   "source": [
    "x_train,x_test,y_train,y_test = sklearn.model_selection.train_test_split(X, y, test_size = 1/10, random_state = 7)"
   ]
  },
  {
   "cell_type": "code",
   "execution_count": 48,
   "metadata": {
    "colab": {
     "base_uri": "https://localhost:8080/",
     "height": 86
    },
    "colab_type": "code",
    "id": "tXHIC8cTPhWE",
    "outputId": "f55b140e-fcab-4ab5-cd55-60a88e16565b"
   },
   "outputs": [
    {
     "name": "stdout",
     "output_type": "stream",
     "text": [
      "(112320, 28, 28)\n",
      "(12480, 28, 28)\n",
      "(112320,)\n",
      "(12480,)\n"
     ]
    }
   ],
   "source": [
    "print(x_train.shape)\n",
    "print(x_test.shape)\n",
    "print(y_train.shape)\n",
    "print(y_test.shape)"
   ]
  },
  {
   "cell_type": "code",
   "execution_count": 0,
   "metadata": {
    "colab": {},
    "colab_type": "code",
    "id": "gKe2Vl3bPhWM"
   },
   "outputs": [],
   "source": [
    "x_train = x_train.astype('float32')\n",
    "x_test = x_test.astype('float32')\n",
    "x_train /= 255\n",
    "x_test /= 255"
   ]
  },
  {
   "cell_type": "code",
   "execution_count": 0,
   "metadata": {
    "colab": {},
    "colab_type": "code",
    "id": "P5OC-OkBPhWT"
   },
   "outputs": [],
   "source": [
    "y_train = keras.utils.to_categorical(y_train, 26)\n",
    "y_test = keras.utils.to_categorical(y_test, 26)"
   ]
  },
  {
   "cell_type": "code",
   "execution_count": 0,
   "metadata": {
    "colab": {},
    "colab_type": "code",
    "id": "4fYpL85qPhWc"
   },
   "outputs": [],
   "source": [
    "x_train = x_train.reshape(-1,28,28,1)\n",
    "x_test = x_test.reshape(-1,28,28,1)"
   ]
  },
  {
   "cell_type": "markdown",
   "metadata": {
    "colab_type": "text",
    "id": "alOCSqCVqgtZ"
   },
   "source": [
    "### Model Architecture"
   ]
  },
  {
   "cell_type": "code",
   "execution_count": 0,
   "metadata": {
    "colab": {},
    "colab_type": "code",
    "id": "Hepm4TRmPhWh"
   },
   "outputs": [],
   "source": [
    "def build_model():\n",
    "    model = Sequential()\n",
    "    model.add(Conv2D(32,(3,3),activation = \"relu\",input_shape = (28,28,1)))\n",
    "    model.add(Conv2D(32,(3,3),activation = \"relu\"))\n",
    "    model.add(MaxPool2D())\n",
    "    model.add(Dropout(.4))\n",
    "    model.add(Conv2D(64,(3,3),activation = \"relu\"))\n",
    "    model.add(Conv2D(64,(3,3),activation = \"relu\"))\n",
    "    model.add(MaxPool2D())\n",
    "    model.add(Dropout(.4))\n",
    "    model.add(Flatten())\n",
    "    model.add(Dense(128,activation=\"relu\"))\n",
    "    model.add(Dropout(.4))\n",
    "    model.add(Dense(26,activation = \"softmax\"))\n",
    "    return model"
   ]
  },
  {
   "cell_type": "code",
   "execution_count": 0,
   "metadata": {
    "colab": {},
    "colab_type": "code",
    "id": "LzOfUx2CgJQ9"
   },
   "outputs": [],
   "source": [
    "def step_decay(epoch, lr):\n",
    "    drop = 0.9\n",
    "    epochs_drop = 10.0\n",
    "    lrate = lr * math.pow(drop,math.floor((1+epoch)/epochs_drop))\n",
    "    return lrate"
   ]
  },
  {
   "cell_type": "markdown",
   "metadata": {
    "colab_type": "text",
    "id": "xCvUPK9UqlUl"
   },
   "source": [
    "### Training the model"
   ]
  },
  {
   "cell_type": "code",
   "execution_count": 54,
   "metadata": {
    "colab": {
     "base_uri": "https://localhost:8080/",
     "height": 729
    },
    "colab_type": "code",
    "id": "CvQiZ3mxbHW4",
    "outputId": "035180e6-c45e-4539-e1b1-617730a8de9c"
   },
   "outputs": [
    {
     "name": "stdout",
     "output_type": "stream",
     "text": [
      "Train on 112320 samples, validate on 12480 samples\n",
      "Epoch 1/20\n",
      "112320/112320 [==============================] - 6s 53us/step - loss: 1.0303 - acc: 0.6858 - val_loss: 0.3054 - val_acc: 0.9035\n",
      "Epoch 2/20\n",
      "112320/112320 [==============================] - 5s 46us/step - loss: 0.4302 - acc: 0.8614 - val_loss: 0.2205 - val_acc: 0.9275\n",
      "Epoch 3/20\n",
      "112320/112320 [==============================] - 5s 45us/step - loss: 0.3423 - acc: 0.8900 - val_loss: 0.1952 - val_acc: 0.9345\n",
      "Epoch 4/20\n",
      "112320/112320 [==============================] - 5s 46us/step - loss: 0.2985 - acc: 0.9037 - val_loss: 0.1778 - val_acc: 0.9397\n",
      "Epoch 5/20\n",
      "112320/112320 [==============================] - 5s 45us/step - loss: 0.2752 - acc: 0.9102 - val_loss: 0.1725 - val_acc: 0.9426\n",
      "Epoch 6/20\n",
      "112320/112320 [==============================] - 5s 45us/step - loss: 0.2588 - acc: 0.9159 - val_loss: 0.1687 - val_acc: 0.9413\n",
      "Epoch 7/20\n",
      "112320/112320 [==============================] - 5s 45us/step - loss: 0.2455 - acc: 0.9187 - val_loss: 0.1686 - val_acc: 0.9423\n",
      "Epoch 8/20\n",
      "112320/112320 [==============================] - 5s 45us/step - loss: 0.2341 - acc: 0.9222 - val_loss: 0.1586 - val_acc: 0.9459\n",
      "Epoch 9/20\n",
      "112320/112320 [==============================] - 5s 45us/step - loss: 0.2272 - acc: 0.9240 - val_loss: 0.1558 - val_acc: 0.9473\n",
      "Epoch 10/20\n",
      "112320/112320 [==============================] - 5s 45us/step - loss: 0.2177 - acc: 0.9272 - val_loss: 0.1504 - val_acc: 0.9495\n",
      "Epoch 11/20\n",
      "112320/112320 [==============================] - 5s 45us/step - loss: 0.2073 - acc: 0.9301 - val_loss: 0.1514 - val_acc: 0.9486\n",
      "Epoch 12/20\n",
      "112320/112320 [==============================] - 5s 45us/step - loss: 0.2014 - acc: 0.9320 - val_loss: 0.1481 - val_acc: 0.9498\n",
      "Epoch 13/20\n",
      "112320/112320 [==============================] - 5s 46us/step - loss: 0.1980 - acc: 0.9322 - val_loss: 0.1449 - val_acc: 0.9515\n",
      "Epoch 14/20\n",
      "112320/112320 [==============================] - 5s 45us/step - loss: 0.1906 - acc: 0.9350 - val_loss: 0.1460 - val_acc: 0.9510\n",
      "Epoch 15/20\n",
      "112320/112320 [==============================] - 5s 45us/step - loss: 0.1883 - acc: 0.9356 - val_loss: 0.1445 - val_acc: 0.9507\n",
      "Epoch 16/20\n",
      "112320/112320 [==============================] - 5s 45us/step - loss: 0.1846 - acc: 0.9369 - val_loss: 0.1418 - val_acc: 0.9519\n",
      "Epoch 17/20\n",
      "112320/112320 [==============================] - 5s 45us/step - loss: 0.1796 - acc: 0.9377 - val_loss: 0.1415 - val_acc: 0.9540\n",
      "Epoch 18/20\n",
      "112320/112320 [==============================] - 5s 45us/step - loss: 0.1730 - acc: 0.9406 - val_loss: 0.1415 - val_acc: 0.9535\n",
      "Epoch 19/20\n",
      "112320/112320 [==============================] - 5s 46us/step - loss: 0.1732 - acc: 0.9408 - val_loss: 0.1398 - val_acc: 0.9539\n",
      "Epoch 20/20\n",
      "112320/112320 [==============================] - 5s 46us/step - loss: 0.1692 - acc: 0.9418 - val_loss: 0.1397 - val_acc: 0.9542\n"
     ]
    }
   ],
   "source": [
    "model = build_model()\n",
    "adam = Adam(lr=.01)\n",
    "model.compile(optimizer = \"adam\", loss = \"categorical_crossentropy\", metrics = [\"accuracy\"])\n",
    "lrate = LearningRateScheduler(step_decay)\n",
    "callback_list = [lrate]\n",
    "history = model.fit(x_train,y_train,batch_size = 256, epochs = 20, validation_data = (x_test,y_test), callbacks=callback_list)"
   ]
  },
  {
   "cell_type": "markdown",
   "metadata": {
    "colab_type": "text",
    "id": "QPGPAJtcq2CI"
   },
   "source": [
    "### Visualizing result"
   ]
  },
  {
   "cell_type": "code",
   "execution_count": 55,
   "metadata": {
    "colab": {
     "base_uri": "https://localhost:8080/",
     "height": 573
    },
    "colab_type": "code",
    "id": "uxD1mHWahb9B",
    "outputId": "2074164b-ef3c-44a4-f780-31bae7ad3858"
   },
   "outputs": [
    {
     "data": {
      "image/png": "[encoded data removed]",
      "text/plain": [
       "<Figure size 432x288 with 1 Axes>"
      ]
     },
     "metadata": {
      "tags": []
     },
     "output_type": "display_data"
    },
    {
     "data": {
      "image/png": "[encoded data removed]",
      "text/plain": [
       "<Figure size 432x288 with 1 Axes>"
      ]
     },
     "metadata": {
      "tags": []
     },
     "output_type": "display_data"
    }
   ],
   "source": [
    "plt.plot(history.history['acc'])\n",
    "plt.plot(history.history['val_acc'])\n",
    "plt.title('model accuracy')\n",
    "plt.ylabel('accuracy')\n",
    "plt.xlabel('epoch')\n",
    "plt.legend(['train', 'test'], loc='upper left')\n",
    "plt.show()\n",
    "# summarize history for loss\n",
    "plt.plot(history.history['loss'])\n",
    "plt.plot(history.history['val_loss'])\n",
    "plt.title('model loss')\n",
    "plt.ylabel('loss')\n",
    "plt.xlabel('epoch')\n",
    "plt.legend(['train', 'test'], loc='upper left')\n",
    "plt.show()"
   ]
  },
  {
   "cell_type": "markdown",
   "metadata": {
    "colab_type": "text",
    "id": "BC1FpRaXq508"
   },
   "source": [
    "#### Saving the model"
   ]
  },
  {
   "cell_type": "code",
   "execution_count": 0,
   "metadata": {
    "colab": {},
    "colab_type": "code",
    "id": "XLVaMzVWorEQ"
   },
   "outputs": [],
   "source": [
    "model = model.save('../../Model/cnn_model.h5')"
   ]
  }
 ],
 "metadata": {
  "accelerator": "GPU",
  "colab": {
   "name": "cnn_model.ipynb",
   "provenance": []
  },
  "kernelspec": {
   "display_name": "Python 3",
   "language": "python",
   "name": "python3"
  },
  "language_info": {
   "codemirror_mode": {
    "name": "ipython",
    "version": 3
   },
   "file_extension": ".py",
   "mimetype": "text/x-python",
   "name": "python",
   "nbconvert_exporter": "python",
   "pygments_lexer": "ipython3",
   "version": "3.7.3"
  }
 },
 "nbformat": 4,
 "nbformat_minor": 1
}
