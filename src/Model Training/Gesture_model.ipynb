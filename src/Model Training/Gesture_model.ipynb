{
 "cells": [
  {
   "cell_type": "markdown",
   "metadata": {},
   "source": [
    "# Gesture Classification to Palm, Fist, Nothing"
   ]
  },
  {
   "cell_type": "markdown",
   "metadata": {},
   "source": [
    "### Importing Libraries"
   ]
  },
  {
   "cell_type": "code",
   "execution_count": 0,
   "metadata": {
    "colab": {},
    "colab_type": "code",
    "id": "_iz8urNB6BEg"
   },
   "outputs": [],
   "source": [
    "import keras\n",
    "import numpy as np\n",
    "import cv2\n",
    "from keras.preprocessing.image import ImageDataGenerator\n",
    "from keras.models import Sequential\n",
    "from keras.layers import Dense,Conv2D,MaxPool2D,Dropout,Flatten, GlobalAveragePooling2D\n",
    "import matplotlib.pyplot as plt\n",
    "from sklearn.model_selection import train_test_split\n",
    "import random\n",
    "from keras.applications.mobilenet import MobileNet\n",
    "from keras.applications.resnet import ResNet50\n",
    "from keras.optimizers import Adam"
   ]
  },
  {
   "cell_type": "markdown",
   "metadata": {},
   "source": [
    "### Defining model architecture"
   ]
  },
  {
   "cell_type": "code",
   "execution_count": 0,
   "metadata": {
    "colab": {},
    "colab_type": "code",
    "id": "tDd7T8887Op4"
   },
   "outputs": [],
   "source": [
    "def build_model():\n",
    "    base = MobileNet(input_shape=(224,224,3),include_top=False, weights='imagenet')\n",
    "    classifier = Sequential()\n",
    "    classifier.add(base)\n",
    "    classifier.add(GlobalAveragePooling2D())\n",
    "    classifier.add(Dropout(.6))\n",
    "    classifier.add(Dense(1024,activation='relu'))\n",
    "    classifier.add(Dropout(.6))\n",
    "    classifier.add(Dense(3,activation='sigmoid'))\n",
    "    for layer in base.layers:\n",
    "        layer.trainable = False\n",
    "    for layer in base.layers[-2:]:\n",
    "        layer.trainable = True\n",
    "    adam = Adam(.0001)\n",
    "    classifier.compile(optimizer = adam, loss = 'categorical_crossentropy', metrics = ['accuracy'])\n",
    "    return classifier"
   ]
  },
  {
   "cell_type": "code",
   "execution_count": 32,
   "metadata": {
    "colab": {
     "base_uri": "https://localhost:8080/",
     "height": 34
    },
    "colab_type": "code",
    "id": "OdHfWqoB9nXb",
    "outputId": "4eb70da3-24c6-4d58-ffda-946527db98ba"
   },
   "outputs": [
    {
     "name": "stdout",
     "output_type": "stream",
     "text": [
      "WARNING:tensorflow:Large dropout rate: 0.6 (>0.5). In TensorFlow 2.x, dropout() uses dropout rate instead of keep_prob. Please ensure that this is intended.\n"
     ]
    }
   ],
   "source": [
    "model = build_model()''"
   ]
  },
  {
   "cell_type": "markdown",
   "metadata": {},
   "source": [
    "#### Image data generator"
   ]
  },
  {
   "cell_type": "code",
   "execution_count": 0,
   "metadata": {
    "colab": {},
    "colab_type": "code",
    "id": "3h6gSlhx-ugR"
   },
   "outputs": [],
   "source": [
    "datagen = ImageDataGenerator(rescale=1./255)"
   ]
  },
  {
   "cell_type": "code",
   "execution_count": 34,
   "metadata": {
    "colab": {
     "base_uri": "https://localhost:8080/",
     "height": 52
    },
    "colab_type": "code",
    "id": "fAo8AslxE_pM",
    "outputId": "b46ccca8-0ed0-4d1e-ce0e-2c36ebd21132"
   },
   "outputs": [
    {
     "name": "stdout",
     "output_type": "stream",
     "text": [
      "Found 57138 images belonging to 3 classes.\n",
      "Found 995 images belonging to 3 classes.\n"
     ]
    }
   ],
   "source": [
    "train_dataloader = datagen.flow_from_directory('../../data/gesture_image/',target_size = (224, 224),batch_size = 256,class_mode = 'categorical')\n",
    "test_dataloader = datagen.flow_from_directory('../../data/valid_gesture_image/',target_size = (224, 224),batch_size = 256,class_mode = 'categorical')"
   ]
  },
  {
   "cell_type": "code",
   "execution_count": 35,
   "metadata": {
    "colab": {
     "base_uri": "https://localhost:8080/",
     "height": 121
    },
    "colab_type": "code",
    "id": "RS-KBR2vFsOT",
    "outputId": "21d1efca-2cc8-42f8-9181-cb6a5d2fcad1"
   },
   "outputs": [
    {
     "name": "stdout",
     "output_type": "stream",
     "text": [
      "Epoch 1/3\n",
      "223/223 [==============================] - 102s 457ms/step - loss: 0.3739 - acc: 0.8440 - val_loss: 0.0656 - val_acc: 0.9849\n",
      "Epoch 2/3\n",
      "223/223 [==============================] - 99s 444ms/step - loss: 0.1156 - acc: 0.9594 - val_loss: 0.0495 - val_acc: 0.9859\n",
      "Epoch 3/3\n",
      "223/223 [==============================] - 98s 440ms/step - loss: 0.0896 - acc: 0.9686 - val_loss: 0.0441 - val_acc: 0.9899\n"
     ]
    }
   ],
   "source": [
    "history = model.fit_generator(train_dataloader, steps_per_epoch = 57138//256, epochs = 3, validation_data = test_dataloader)"
   ]
  },
  {
   "cell_type": "code",
   "execution_count": 0,
   "metadata": {
    "colab": {},
    "colab_type": "code",
    "id": "mfe3y6_wklIi"
   },
   "outputs": [],
   "source": [
    "model.save('gesture_new.h5')"
   ]
  }
 ],
 "metadata": {
  "accelerator": "GPU",
  "colab": {
   "name": "Gesture_model.ipynb",
   "provenance": []
  },
  "kernelspec": {
   "display_name": "Python 3",
   "language": "python",
   "name": "python3"
  },
  "language_info": {
   "codemirror_mode": {
    "name": "ipython",
    "version": 3
   },
   "file_extension": ".py",
   "mimetype": "text/x-python",
   "name": "python",
   "nbconvert_exporter": "python",
   "pygments_lexer": "ipython3",
   "version": "3.7.3"
  }
 },
 "nbformat": 4,
 "nbformat_minor": 1
}
