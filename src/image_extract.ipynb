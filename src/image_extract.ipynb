{
 "cells": [
  {
   "cell_type": "markdown",
   "metadata": {},
   "source": [
    "prediction"
   ]
  },
  {
   "cell_type": "code",
   "execution_count": 1,
   "metadata": {},
   "outputs": [],
   "source": [
    "# importing dependencies\n",
    "import numpy as np\n",
    "import os\n",
    "import cv2\n",
    "import os.path\n",
    "from os import listdir\n",
    "import matplotlib.pyplot as plt"
   ]
  },
  {
   "cell_type": "code",
   "execution_count": 2,
   "metadata": {},
   "outputs": [],
   "source": [
    "def image_segmentation(image_name):\n",
    "    # reading the image\n",
    "    image = cv2.imread(image_name)\n",
    "\n",
    "    # converting the image to grayscale\n",
    "    gray = cv2.cvtColor(image, cv2.COLOR_BGR2GRAY)\n",
    "    gray = cv2.erode(gray,kernel = np.ones((5,5),np.uint8))\n",
    "    #plt.imshow(gray,cmap = 'gray')\n",
    "\n",
    "    # threshold to convert the image to pure black and white\n",
    "    thresh = cv2.threshold(gray, 0,255, cv2.THRESH_BINARY_INV | cv2.THRESH_OTSU)[1]\n",
    "    #plt.imshow(thresh,cmap = 'gray')\n",
    "    \n",
    "    # find the contours (continous blob of pixels ) in the image \n",
    "    contours = cv2.findContours(thresh,cv2.RETR_EXTERNAL, cv2.CHAIN_APPROX_SIMPLE)\n",
    "    \n",
    "    # Hack for compatibility with different OpenCV versions\n",
    "    contours = contours[0]\n",
    "\n",
    "    letter_image_regions = []\n",
    "\n",
    "    # now loop through each of the letter in the image \n",
    "    for contour in contours:\n",
    "        # get the rectangle that contains the contour\n",
    "        x,y,w,h = cv2.boundingRect(contour)\n",
    "        # compare the width and height of the contour to detect if it\n",
    "        # has one letter or not\n",
    "        #if w/h >1.20:\n",
    "            # this is too wide for a single letter\n",
    "            #continue\n",
    "        if w<20 or h<30:\n",
    "            # this is a very small image probably a noise\n",
    "            continue\n",
    "        else:\n",
    "        # this is a normal letter by itself\n",
    "            letter_image_regions.append((x,y,w,h))\n",
    "    #plt.imshow(gray,cmap = 'gray')\n",
    "    return letter_image_regions"
   ]
  },
  {
   "cell_type": "code",
   "execution_count": 8,
   "metadata": {},
   "outputs": [],
   "source": [
    "# now we will read images from the folder segment the images and will produce the output\n",
    "for image_name in listdir('../temp_data/images/'):\n",
    "    #counter = 1\n",
    "    # constructing the name of the file \n",
    "    file_name = '../temp_data/images/' + image_name\n",
    "\n",
    "    # getting segmented images \n",
    "    letters_in_image = image_segmentation(file_name)\n",
    "    \n",
    "    # sorting the letters so that letters that appear before is addressed first \n",
    "    letters_in_image = sorted(letters_in_image, key=lambda x: x[0])\n",
    "    \n",
    "    ans = \"\"\n",
    "    for (x,y,w,h) in letters_in_image:\n",
    "        image = cv2.imread(file_name,0)\n",
    "        letter = image[y - 3:y + h + 3, x - 3:x + w + 3]\n",
    "        \n",
    "        cv2.imwrite('../temp_data/alphabets/'+str(counter)+'.jpg', letter)\n",
    "        counter = counter + 1"
   ]
  },
  {
   "cell_type": "code",
   "execution_count": 9,
   "metadata": {},
   "outputs": [
    {
     "data": {
      "text/plain": [
       "11"
      ]
     },
     "execution_count": 9,
     "metadata": {},
     "output_type": "execute_result"
    }
   ],
   "source": [
    "counter"
   ]
  },
  {
   "cell_type": "code",
   "execution_count": 10,
   "metadata": {},
   "outputs": [
    {
     "name": "stdout",
     "output_type": "stream",
     "text": [
      "Time:  5.571200017584488e-05\n"
     ]
    }
   ],
   "source": [
    "import timeit\n",
    "\n",
    "start = timeit.default_timer()\n",
    "\n",
    "#Your statements here\n",
    "\n",
    "stop = timeit.default_timer()\n",
    "\n",
    "print('Time: ', stop - start) "
   ]
  },
  {
   "cell_type": "code",
   "execution_count": null,
   "metadata": {},
   "outputs": [],
   "source": []
  }
 ],
 "metadata": {
  "kernelspec": {
   "display_name": "Python 3",
   "language": "python",
   "name": "python3"
  },
  "language_info": {
   "codemirror_mode": {
    "name": "ipython",
    "version": 3
   },
   "file_extension": ".py",
   "mimetype": "text/x-python",
   "name": "python",
   "nbconvert_exporter": "python",
   "pygments_lexer": "ipython3",
   "version": "3.7.3"
  }
 },
 "nbformat": 4,
 "nbformat_minor": 2
}
