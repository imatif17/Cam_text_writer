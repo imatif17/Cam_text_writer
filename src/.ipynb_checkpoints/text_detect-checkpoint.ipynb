{
 "cells": [
  {
   "cell_type": "code",
   "execution_count": 1,
   "metadata": {},
   "outputs": [
    {
     "name": "stderr",
     "output_type": "stream",
     "text": [
      "Using TensorFlow backend.\n"
     ]
    }
   ],
   "source": [
    "import numpy as np\n",
    "import keras\n",
    "import os\n",
    "import cv2\n",
    "from keras.models import load_model\n",
    "import matplotlib.pyplot as plt"
   ]
  },
  {
   "cell_type": "code",
   "execution_count": 2,
   "metadata": {},
   "outputs": [],
   "source": [
    "letters = { 1: 'a', 2: 'b', 3: 'c', 4: 'd', 5: 'e', 6: 'f', 7: 'g', 8: 'h', 9: 'i', 10: 'j',\n",
    "11: 'k', 12: 'l', 13: 'm', 14: 'n', 15: 'o', 16: 'p', 17: 'q', 18: 'r', 19: 's', 20: 't',\n",
    "21: 'u', 22: 'v', 23: 'w', 24: 'x', 25: 'y', 26: 'z', 27: '-'}\n"
   ]
  },
  {
   "cell_type": "code",
   "execution_count": 4,
   "metadata": {},
   "outputs": [
    {
     "name": "stderr",
     "output_type": "stream",
     "text": [
      "WARNING: Logging before flag parsing goes to stderr.\n",
      "W1117 18:09:26.891916 140586279315200 deprecation_wrapper.py:119] From /home/atif/anaconda3/lib/python3.7/site-packages/keras/backend/tensorflow_backend.py:517: The name tf.placeholder is deprecated. Please use tf.compat.v1.placeholder instead.\n",
      "\n",
      "W1117 18:09:27.157942 140586279315200 deprecation_wrapper.py:119] From /home/atif/anaconda3/lib/python3.7/site-packages/keras/backend/tensorflow_backend.py:4138: The name tf.random_uniform is deprecated. Please use tf.random.uniform instead.\n",
      "\n",
      "W1117 18:09:27.289365 140586279315200 deprecation_wrapper.py:119] From /home/atif/anaconda3/lib/python3.7/site-packages/keras/backend/tensorflow_backend.py:3976: The name tf.nn.max_pool is deprecated. Please use tf.nn.max_pool2d instead.\n",
      "\n",
      "W1117 18:09:27.309023 140586279315200 deprecation_wrapper.py:119] From /home/atif/anaconda3/lib/python3.7/site-packages/keras/backend/tensorflow_backend.py:131: The name tf.get_default_graph is deprecated. Please use tf.compat.v1.get_default_graph instead.\n",
      "\n",
      "W1117 18:09:27.310229 140586279315200 deprecation_wrapper.py:119] From /home/atif/anaconda3/lib/python3.7/site-packages/keras/backend/tensorflow_backend.py:133: The name tf.placeholder_with_default is deprecated. Please use tf.compat.v1.placeholder_with_default instead.\n",
      "\n",
      "W1117 18:09:27.320735 140586279315200 deprecation.py:506] From /home/atif/anaconda3/lib/python3.7/site-packages/keras/backend/tensorflow_backend.py:3445: calling dropout (from tensorflow.python.ops.nn_ops) with keep_prob is deprecated and will be removed in a future version.\n",
      "Instructions for updating:\n",
      "Please use `rate` instead of `keep_prob`. Rate should be set to `rate = 1 - keep_prob`.\n",
      "W1117 18:09:27.515101 140586279315200 deprecation_wrapper.py:119] From /home/atif/anaconda3/lib/python3.7/site-packages/keras/backend/tensorflow_backend.py:174: The name tf.get_default_session is deprecated. Please use tf.compat.v1.get_default_session instead.\n",
      "\n",
      "W1117 18:09:28.516546 140586279315200 deprecation_wrapper.py:119] From /home/atif/anaconda3/lib/python3.7/site-packages/keras/optimizers.py:790: The name tf.train.Optimizer is deprecated. Please use tf.compat.v1.train.Optimizer instead.\n",
      "\n",
      "W1117 18:09:28.697426 140586279315200 deprecation.py:323] From /home/atif/anaconda3/lib/python3.7/site-packages/tensorflow/python/ops/math_grad.py:1250: add_dispatch_support.<locals>.wrapper (from tensorflow.python.ops.array_ops) is deprecated and will be removed in a future version.\n",
      "Instructions for updating:\n",
      "Use tf.where in 2.0, which has the same broadcast rule as np.where\n"
     ]
    }
   ],
   "source": [
    "model = load_model('../Model/cnn_model.h5')\n",
    "model2 = load_model('../Model/cnn_model_2.h5')"
   ]
  },
  {
   "cell_type": "code",
   "execution_count": 5,
   "metadata": {},
   "outputs": [
    {
     "name": "stdout",
     "output_type": "stream",
     "text": [
      "[Errno 2] No such file or directory: 'Desktop/minor_project/'\n",
      "/home/atif/Desktop/minor_project\n"
     ]
    }
   ],
   "source": []
  },
  {
   "cell_type": "code",
   "execution_count": 6,
   "metadata": {},
   "outputs": [
    {
     "name": "stdout",
     "output_type": "stream",
     "text": [
      "1-s2.0-S0031320318304370-main.pdf    \u001b[0m\u001b[01;34mdata\u001b[0m/                \u001b[01;34mimages\u001b[0m/\r\n",
      "\u001b[01;34malphabets\u001b[0m/                           emnist_mlp_model.h5  \u001b[01;34mModel\u001b[0m/\r\n",
      "cnn_model_image_datagenerator.ipynb  extract_roi.py       \u001b[01;34mpython-mnist\u001b[0m/\r\n",
      "cnn_model.ipynb                      holo.py              text_detect.ipynb\r\n",
      "color_detect.py                      image_extract.ipynb\r\n"
     ]
    }
   ],
   "source": [
    "ls"
   ]
  },
  {
   "cell_type": "code",
   "execution_count": 7,
   "metadata": {},
   "outputs": [
    {
     "data": {
      "text/plain": [
       "<matplotlib.image.AxesImage at 0x7ff860be91d0>"
      ]
     },
     "execution_count": 7,
     "metadata": {},
     "output_type": "execute_result"
    },
    {
     "data": {
      "image/png": "[encoded data removed]",
      "text/plain": [
       "<Figure size 432x288 with 1 Axes>"
      ]
     },
     "metadata": {
      "needs_background": "light"
     },
     "output_type": "display_data"
    }
   ],
   "source": [
    "img = cv2.imread('alphabets/3.jpg')\n",
    "img = cv2.cvtColor(img,cv2.COLOR_BGR2GRAY)\n",
    "h,w = img.shape\n",
    "if(h > w):\n",
    "    image = np.zeros((h,h))\n",
    "    image = image[:,int((h-w)/2):int(w+(h-w)/2)]+img\n",
    "else:\n",
    "    image = np.zeros((w,w))\n",
    "    image = image[int((w-h)/2):int((w-h)/2+h),:] + img\n",
    "image = np.array(image)\n",
    "image = image.astype('float32')/255\n",
    "plt.imshow(image)"
   ]
  },
  {
   "cell_type": "code",
   "execution_count": 106,
   "metadata": {},
   "outputs": [
    {
     "name": "stdout",
     "output_type": "stream",
     "text": [
      "9\n"
     ]
    },
    {
     "data": {
      "image/png": "[encoded data removed]",
      "text/plain": [
       "<Figure size 432x288 with 1 Axes>"
      ]
     },
     "metadata": {
      "needs_background": "light"
     },
     "output_type": "display_data"
    }
   ],
   "source": [
    "img = cv2.imread('alphabets/2.jpg')\n",
    "img = cv2.cvtColor(img,cv2.COLOR_BGR2GRAY)\n",
    "h,w = img.shape\n",
    "img = np.pad(img, pad_width=300, mode='constant', constant_values=255)\n",
    "if(h>w):\n",
    "    img = img[300:300+h,300:300+h]\n",
    "else:\n",
    "    img = img[500:500+w,500:500+w]\n",
    "plt.imshow(img,cmap = 'gray')\n",
    "img = cv2.resize(img,(28,28))\n",
    "img = cv2.bitwise_not(img)\n",
    "img = img.astype('float32')/255\n",
    "plt.imshow(img,cmap = 'gray')\n",
    "prediction = model.predict(img.reshape(1,28,28,1))\n",
    "prediction = np.argmax(prediction)\n",
    "print(prediction)"
   ]
  },
  {
   "cell_type": "code",
   "execution_count": 186,
   "metadata": {},
   "outputs": [
    {
     "name": "stdout",
     "output_type": "stream",
     "text": [
      "9\n"
     ]
    },
    {
     "data": {
      "image/png": "[encoded data removed]",
      "text/plain": [
       "<Figure size 432x288 with 1 Axes>"
      ]
     },
     "metadata": {
      "needs_background": "light"
     },
     "output_type": "display_data"
    }
   ],
   "source": [
    "img = cv2.imread('alphabets/2.jpg')\n",
    "img = cv2.cvtColor(img,cv2.COLOR_BGR2GRAY)\n",
    "img = cv2.bitwise_not(img)\n",
    "\n",
    "h,w = img.shape\n",
    "img = np.pad(img, pad_width=300, mode='constant', constant_values=0)\n",
    "if(h>w):\n",
    "    img = img[250:350+h,250:350+h]\n",
    "else:\n",
    "    img = img[250:350+h,250:350+h]\n",
    "wide = cv2.Canny(img, 30, 100)\n",
    "tight = cv2.Canny(img, 200, 240)\n",
    "img = cv2.resize(img,(28,28))\n",
    "img = img.astype('float32')/255\n",
    "plt.imshow(tight,cmap = 'gray')\n",
    "\n",
    "prediction = model.predict(img.reshape(1,28,28,1))\n",
    "prediction = np.argmax(prediction)\n",
    "print(prediction)"
   ]
  },
  {
   "cell_type": "code",
   "execution_count": 9,
   "metadata": {},
   "outputs": [],
   "source": [
    "kernel = np.ones((5, 5), np.uint8)"
   ]
  },
  {
   "cell_type": "code",
   "execution_count": 280,
   "metadata": {},
   "outputs": [
    {
     "name": "stdout",
     "output_type": "stream",
     "text": [
      "[1.9065218e-06 7.5464904e-08 6.0851018e-09 5.1030389e-07 1.4126769e-06\n",
      " 1.7901169e-04 1.4874618e-05 8.6997307e-09 1.5649267e-07 3.0178143e-08\n",
      " 2.7392338e-07 1.9875810e-09 6.6476315e-07 5.6822560e-06 2.6371004e-07\n",
      " 9.9719149e-01 5.0682112e-05 1.9664920e-04 2.5829368e-09 3.9633182e-06\n",
      " 1.6646819e-09 1.3626000e-04 6.6100423e-05 8.3039379e-07 2.1490583e-03\n",
      " 4.8303797e-08]\n",
      "15\n",
      "[1.1737184e-06 5.3801013e-12 7.1428779e-13 5.2605836e-13 1.4169734e-07\n",
      " 3.4508828e-02 7.8905907e-07 4.7908729e-14 1.0528636e-09 2.4781932e-13\n",
      " 3.9509517e-13 1.4905447e-12 7.9099742e-17 3.2523580e-13 2.4965637e-16\n",
      " 9.6543133e-01 4.1656563e-06 9.6412423e-06 4.0839948e-17 3.4025317e-05\n",
      " 8.7959750e-19 9.9112896e-09 1.1249364e-18 1.0592870e-13 8.9416926e-06\n",
      " 9.9147599e-07]\n",
      "15\n",
      "15\n"
     ]
    },
    {
     "data": {
      "image/png": "[encoded data removed]",
      "text/plain": [
       "<Figure size 432x288 with 1 Axes>"
      ]
     },
     "metadata": {
      "needs_background": "light"
     },
     "output_type": "display_data"
    }
   ],
   "source": [
    "img = cv2.imread('alphabets/4.jpg')\n",
    "img = cv2.cvtColor(img,cv2.COLOR_BGR2GRAY)\n",
    "img = cv2.bitwise_not(img)\n",
    "\n",
    "retval, img = cv2.threshold(img, 50, 255, cv2.THRESH_BINARY)\n",
    "\n",
    "h,w = img.shape\n",
    "img = np.pad(img, pad_width=100, mode='constant', constant_values=0)\n",
    "if(h>w):\n",
    "    img = img[50:150+h,50:150+h]\n",
    "else:\n",
    "    img = img[50:150+w,50:150+w]\n",
    "\n",
    "img = cv2.dilate(img, kernel, iterations=1)\n",
    "img = cv2.resize(img,(28,28))\n",
    "img = img.astype('float32')/255\n",
    "\n",
    "plt.imshow(img,cmap = 'gray')\n",
    "\n",
    "prediction = model.predict(img.reshape(1,28,28,1))[0]\n",
    "print(prediction)\n",
    "#prediction = np.argmax(prediction)\n",
    "print(np.argmax(prediction))\n",
    "\n",
    "prediction2 = model2.predict(img.reshape(1,28,28))[0]\n",
    "print(prediction2)\n",
    "#prediction = np.argmax(prediction)\n",
    "print(np.argmax(prediction2))\n",
    "prediction3 = prediction+prediction2\n",
    "prediction3 = np.argmax(prediction3)\n",
    "print(prediction3)\n"
   ]
  },
  {
   "cell_type": "code",
   "execution_count": 268,
   "metadata": {},
   "outputs": [
    {
     "name": "stdout",
     "output_type": "stream",
     "text": [
      "4\n"
     ]
    },
    {
     "data": {
      "image/png": "[encoded data removed]",
      "text/plain": [
       "<Figure size 432x288 with 1 Axes>"
      ]
     },
     "metadata": {
      "needs_background": "light"
     },
     "output_type": "display_data"
    }
   ],
   "source": [
    "img = cv2.imread('alphabets/label_E.png')\n",
    "img = cv2.cvtColor(img,cv2.COLOR_BGR2GRAY)\n",
    "\n",
    "img = img[80:160,140:230]\n",
    "img = img[7:78,7:78]\n",
    "plt.imshow(img,cmap = 'gray')\n",
    "img = cv2.resize(img,(28,28))\n",
    "img = img.astype('float32')/255\n",
    "prediction = model.predict(img.reshape(1,28,28,1))[0]\n",
    "#prediction = np.argmax(prediction)\n",
    "prediction2 = model2.predict(img.reshape(1,28,28))[0]\n",
    "prediction3 = prediction+prediction2\n",
    "prediction3 = np.argmax(prediction3)\n",
    "print(prediction3)"
   ]
  },
  {
   "cell_type": "code",
   "execution_count": 7,
   "metadata": {},
   "outputs": [
    {
     "ename": "FileNotFoundError",
     "evalue": "[Errno 2] No such file or directory: 'alphabets/'",
     "output_type": "error",
     "traceback": [
      "\u001b[0;31m---------------------------------------------------------------------------\u001b[0m",
      "\u001b[0;31mFileNotFoundError\u001b[0m                         Traceback (most recent call last)",
      "\u001b[0;32m<ipython-input-7-739476f4cac3>\u001b[0m in \u001b[0;36m<module>\u001b[0;34m\u001b[0m\n\u001b[1;32m      2\u001b[0m \u001b[0;32mfor\u001b[0m \u001b[0mi\u001b[0m\u001b[0;34m,\u001b[0m\u001b[0mitem\u001b[0m \u001b[0;32min\u001b[0m \u001b[0menumerate\u001b[0m\u001b[0;34m(\u001b[0m\u001b[0msorted\u001b[0m\u001b[0;34m(\u001b[0m\u001b[0mos\u001b[0m\u001b[0;34m.\u001b[0m\u001b[0mlistdir\u001b[0m\u001b[0;34m(\u001b[0m\u001b[0;34m'../temp_data/alphabets/'\u001b[0m\u001b[0;34m)\u001b[0m\u001b[0;34m)\u001b[0m\u001b[0;34m)\u001b[0m\u001b[0;34m:\u001b[0m\u001b[0;34m\u001b[0m\u001b[0;34m\u001b[0m\u001b[0m\n\u001b[1;32m      3\u001b[0m     \u001b[0mplt\u001b[0m\u001b[0;34m.\u001b[0m\u001b[0mfigure\u001b[0m\u001b[0;34m(\u001b[0m\u001b[0mfigsize\u001b[0m\u001b[0;34m=\u001b[0m\u001b[0;34m(\u001b[0m\u001b[0;36m20\u001b[0m\u001b[0;34m,\u001b[0m\u001b[0;36m10\u001b[0m\u001b[0;34m)\u001b[0m\u001b[0;34m)\u001b[0m\u001b[0;34m\u001b[0m\u001b[0;34m\u001b[0m\u001b[0m\n\u001b[0;32m----> 4\u001b[0;31m     \u001b[0max\u001b[0m \u001b[0;34m=\u001b[0m \u001b[0mplt\u001b[0m\u001b[0;34m.\u001b[0m\u001b[0msubplot\u001b[0m\u001b[0;34m(\u001b[0m\u001b[0;36m1\u001b[0m\u001b[0;34m,\u001b[0m \u001b[0mlen\u001b[0m\u001b[0;34m(\u001b[0m\u001b[0mos\u001b[0m\u001b[0;34m.\u001b[0m\u001b[0mlistdir\u001b[0m\u001b[0;34m(\u001b[0m\u001b[0;34m'alphabets/'\u001b[0m\u001b[0;34m)\u001b[0m\u001b[0;34m)\u001b[0m\u001b[0;34m,\u001b[0m \u001b[0mi\u001b[0m\u001b[0;34m+\u001b[0m\u001b[0;36m1\u001b[0m\u001b[0;34m)\u001b[0m\u001b[0;34m\u001b[0m\u001b[0;34m\u001b[0m\u001b[0m\n\u001b[0m\u001b[1;32m      5\u001b[0m     \u001b[0mimg\u001b[0m \u001b[0;34m=\u001b[0m \u001b[0mcv2\u001b[0m\u001b[0;34m.\u001b[0m\u001b[0mimread\u001b[0m\u001b[0;34m(\u001b[0m\u001b[0;34m'../temp_data/alphabets/'\u001b[0m\u001b[0;34m+\u001b[0m\u001b[0mitem\u001b[0m\u001b[0;34m)\u001b[0m\u001b[0;34m\u001b[0m\u001b[0;34m\u001b[0m\u001b[0m\n\u001b[1;32m      6\u001b[0m     \u001b[0mimg\u001b[0m \u001b[0;34m=\u001b[0m \u001b[0mcv2\u001b[0m\u001b[0;34m.\u001b[0m\u001b[0mcvtColor\u001b[0m\u001b[0;34m(\u001b[0m\u001b[0mimg\u001b[0m\u001b[0;34m,\u001b[0m\u001b[0mcv2\u001b[0m\u001b[0;34m.\u001b[0m\u001b[0mCOLOR_BGR2GRAY\u001b[0m\u001b[0;34m)\u001b[0m\u001b[0;34m\u001b[0m\u001b[0;34m\u001b[0m\u001b[0m\n",
      "\u001b[0;31mFileNotFoundError\u001b[0m: [Errno 2] No such file or directory: 'alphabets/'"
     ]
    },
    {
     "data": {
      "text/plain": [
       "<Figure size 1440x720 with 0 Axes>"
      ]
     },
     "metadata": {},
     "output_type": "display_data"
    }
   ],
   "source": [
    "word = ''\n",
    "for i,item in enumerate(sorted(os.listdir('../temp_data/alphabets/'))):\n",
    "    plt.figure(figsize=(20,10))\n",
    "    ax = plt.subplot(1, len(os.listdir('alphabets/')), i+1)\n",
    "    img = cv2.imread('../temp_data/alphabets/'+item)\n",
    "    img = cv2.cvtColor(img,cv2.COLOR_BGR2GRAY)\n",
    "    img = cv2.bitwise_not(img)\n",
    "\n",
    "    retval, img = cv2.threshold(img, 50, 255, cv2.THRESH_BINARY)\n",
    "\n",
    "    h,w = img.shape\n",
    "    img = np.pad(img, pad_width=100, mode='constant', constant_values=0)\n",
    "    if(h>w):\n",
    "        img = img[50:150+h,50:150+h]\n",
    "    else:\n",
    "        img = img[50:150+w,50:150+w]\n",
    "\n",
    "    img = cv2.dilate(img, kernel, iterations=1)\n",
    "    img = cv2.resize(img,(28,28))\n",
    "    img = img.astype('float32')/255\n",
    "\n",
    "    ax.imshow(img,cmap = 'gray')\n",
    "\n",
    "    prediction = model.predict(img.reshape(1,28,28,1))[0]\n",
    "    prediction = np.argmax(prediction)\n",
    "    prediction2 = model2.predict(img.reshape(1,28,28,1))[0]\n",
    "    prediction2 = np.argmax(prediction2)\n",
    "    prediction3 = prediction+prediction2\n",
    "    prediction3 = np.argmax(prediction3)\n",
    "    word+=str(letters[int(prediction)+1])\n",
    "print(word)"
   ]
  },
  {
   "cell_type": "code",
   "execution_count": null,
   "metadata": {},
   "outputs": [],
   "source": []
  }
 ],
 "metadata": {
  "kernelspec": {
   "display_name": "Python 3",
   "language": "python",
   "name": "python3"
  },
  "language_info": {
   "codemirror_mode": {
    "name": "ipython",
    "version": 3
   },
   "file_extension": ".py",
   "mimetype": "text/x-python",
   "name": "python",
   "nbconvert_exporter": "python",
   "pygments_lexer": "ipython3",
   "version": "3.7.3"
  }
 },
 "nbformat": 4,
 "nbformat_minor": 2
}
